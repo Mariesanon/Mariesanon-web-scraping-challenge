{
 "cells": [
  {
   "cell_type": "code",
   "execution_count": 3,
   "metadata": {},
   "outputs": [],
   "source": [
    "import os\n",
    "import requests\n",
    "from bs4 import BeautifulSoup as bs\n",
    "import pandas as pd\n",
    "from splinter import Browser"
   ]
  },
  {
   "cell_type": "code",
   "execution_count": 4,
   "metadata": {},
   "outputs": [
    {
     "name": "stdout",
     "output_type": "stream",
     "text": [
      "Virginia Middle School Student Earns Honor of Naming NASA's Next Mars Rover\n"
     ]
    }
   ],
   "source": [
    "from selenium import webdriver\n",
    "news_url = 'https://redplanetscience.com/'\n",
    "driver = webdriver.Chrome()\n",
    "driver.get(news_url)\n",
    "page_source = driver.page_source\n",
    "# html = driver.html\n",
    "soup = bs(page_source, 'lxml')\n",
    "data = soup.find(\"div\", class_=\"content_title\")\n",
    "print(data.text)"
   ]
  },
  {
   "cell_type": "code",
   "execution_count": 5,
   "metadata": {},
   "outputs": [
    {
     "name": "stdout",
     "output_type": "stream",
     "text": [
      "https://spaceimages-mars.com/image/featured/mars3.jpg\n"
     ]
    }
   ],
   "source": [
    "from selenium import webdriver\n",
    "image_ul='https://spaceimages-mars.com/'\n",
    "driver = webdriver.Chrome()\n",
    "driver.get(image_ul)\n",
    "page_source = driver.page_source\n",
    "soup = bs(page_source, 'lxml')\n",
    "data = soup.find(\"img\", class_=\"headerimage\")\n",
    "img_src = data.get('src')\n",
    "image_url = image_ul + img_src\n",
    "print(image_url)"
   ]
  },
  {
   "cell_type": "code",
   "execution_count": 162,
   "metadata": {},
   "outputs": [
    {
     "name": "stdout",
     "output_type": "stream",
     "text": [
      "     Mars-Earth Comparison             Mars            Earth\n",
      "0  Mars - Earth Comparison             Mars             Mars\n",
      "1                Diameter:         6,779 km         6,779 km\n",
      "2                    Mass:  6.39 × 10^23 kg  6.39 × 10^23 kg\n",
      "3                   Moons:                2                2\n",
      "4       Distance from Sun:   227,943,824 km   227,943,824 km\n",
      "5          Length of Year:   687 Earth days   687 Earth days\n",
      "6             Temperature:     -87 to -5 °C     -87 to -5 °C\n",
      "<table border=\"1\" class=\"dataframe\">\n",
      "  <thead>\n",
      "    <tr style=\"text-align: right;\">\n",
      "      <th></th>\n",
      "      <th>Mars-Earth Comparison</th>\n",
      "      <th>Mars</th>\n",
      "      <th>Earth</th>\n",
      "    </tr>\n",
      "  </thead>\n",
      "  <tbody>\n",
      "    <tr>\n",
      "      <th>0</th>\n",
      "      <td>Mars - Earth Comparison</td>\n",
      "      <td>Mars</td>\n",
      "      <td>Mars</td>\n",
      "    </tr>\n",
      "    <tr>\n",
      "      <th>1</th>\n",
      "      <td>Diameter:</td>\n",
      "      <td>6,779 km</td>\n",
      "      <td>6,779 km</td>\n",
      "    </tr>\n",
      "    <tr>\n",
      "      <th>2</th>\n",
      "      <td>Mass:</td>\n",
      "      <td>6.39 × 10^23 kg</td>\n",
      "      <td>6.39 × 10^23 kg</td>\n",
      "    </tr>\n",
      "    <tr>\n",
      "      <th>3</th>\n",
      "      <td>Moons:</td>\n",
      "      <td>2</td>\n",
      "      <td>2</td>\n",
      "    </tr>\n",
      "    <tr>\n",
      "      <th>4</th>\n",
      "      <td>Distance from Sun:</td>\n",
      "      <td>227,943,824 km</td>\n",
      "      <td>227,943,824 km</td>\n",
      "    </tr>\n",
      "    <tr>\n",
      "      <th>5</th>\n",
      "      <td>Length of Year:</td>\n",
      "      <td>687 Earth days</td>\n",
      "      <td>687 Earth days</td>\n",
      "    </tr>\n",
      "    <tr>\n",
      "      <th>6</th>\n",
      "      <td>Temperature:</td>\n",
      "      <td>-87 to -5 °C</td>\n",
      "      <td>-87 to -5 °C</td>\n",
      "    </tr>\n",
      "  </tbody>\n",
      "</table>\n"
     ]
    }
   ],
   "source": [
    "all_mars='https://galaxyfacts-mars.com/'\n",
    "data_mars=pd.read_html(all_mars)\n",
    "earth_facts = 'https://galaxyfacts-mars.com/'\n",
    "earth_facts_table = pd.read_html(earth_facts)\n",
    "da = data_mars[0] \n",
    "da.columns = ['Mars-Earth Comparison', 'Mars', 'Earth']\n",
    "earth_df = earth_facts_table[0]\n",
    "da['Earth'] = earth_df[1]\n",
    "print(da)\n",
    "print(da.to_html())"
   ]
  },
  {
   "cell_type": "code",
   "execution_count": 165,
   "metadata": {},
   "outputs": [
    {
     "name": "stdout",
     "output_type": "stream",
     "text": [
      "https://marshemispheres.com/cerberus.html\n",
      "https://marshemispheres.com/images/full.jpg\n",
      "https://marshemispheres.com/schiaparelli.html\n",
      "https://marshemispheres.com/images/schiaparelli_enhanced-full.jpg\n",
      "https://marshemispheres.com/syrtis.html\n",
      "https://marshemispheres.com/images/syrtis_major_enhanced-full.jpg\n",
      "https://marshemispheres.com/valles.html\n",
      "https://marshemispheres.com/images/valles_marineris_enhanced-full.jpg\n"
     ]
    }
   ],
   "source": [
    "hem_url=\"https://marshemispheres.com/\"\n",
    "browser = requests.get(hem_url)\n",
    "html = browser.content\n",
    "soup = bs(html, 'html.parser')\n",
    "full_url = soup.find_all('div', class_='item')\n",
    "hemisphere_img_urls=[] \n",
    "for x in full_url:\n",
    "    title_a = x.find('h3').text\n",
    "    urls = x.find('a')['href']\n",
    "    img_url= hem_url+urls\n",
    "    print(img_url)\n",
    "    browser = requests.get(img_url)\n",
    "    html = browser.content\n",
    "    soup = bs(html, 'html.parser')\n",
    "    original_img= soup.find('div',class_='downloads')\n",
    "    hems_url=original_img.find('a')['href']\n",
    "    hems_url = hem_url + hems_url\n",
    "    print(hems_url)\n",
    "    img_data=dict({'title':title_a, 'img_url':hems_url})\n",
    "    hemisphere_img_urls.append(img_data)"
   ]
  },
  {
   "cell_type": "code",
   "execution_count": 166,
   "metadata": {},
   "outputs": [
    {
     "data": {
      "text/plain": [
       "[{'title': 'Cerberus Hemisphere Enhanced',\n",
       "  'img_url': 'https://marshemispheres.com/images/full.jpg'},\n",
       " {'title': 'Schiaparelli Hemisphere Enhanced',\n",
       "  'img_url': 'https://marshemispheres.com/images/schiaparelli_enhanced-full.jpg'},\n",
       " {'title': 'Syrtis Major Hemisphere Enhanced',\n",
       "  'img_url': 'https://marshemispheres.com/images/syrtis_major_enhanced-full.jpg'},\n",
       " {'title': 'Valles Marineris Hemisphere Enhanced',\n",
       "  'img_url': 'https://marshemispheres.com/images/valles_marineris_enhanced-full.jpg'}]"
      ]
     },
     "execution_count": 166,
     "metadata": {},
     "output_type": "execute_result"
    }
   ],
   "source": [
    "hemisphere_img_urls"
   ]
  },
  {
   "cell_type": "code",
   "execution_count": null,
   "metadata": {},
   "outputs": [],
   "source": []
  }
 ],
 "metadata": {
  "kernelspec": {
   "display_name": "Python 3.8.1 32-bit",
   "language": "python",
   "name": "python3"
  },
  "language_info": {
   "codemirror_mode": {
    "name": "ipython",
    "version": 3
   },
   "file_extension": ".py",
   "mimetype": "text/x-python",
   "name": "python",
   "nbconvert_exporter": "python",
   "pygments_lexer": "ipython3",
   "version": "3.8.1"
  },
  "vscode": {
   "interpreter": {
    "hash": "bc012347e68cf047e25f70f14629dc25d2ee2b8583001355f5de18a262ba4ee2"
   }
  }
 },
 "nbformat": 4,
 "nbformat_minor": 4
}
